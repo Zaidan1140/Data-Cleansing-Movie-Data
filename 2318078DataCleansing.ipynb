{
  "nbformat": 4,
  "nbformat_minor": 0,
  "metadata": {
    "colab": {
      "provenance": [],
      "authorship_tag": "ABX9TyOqIaJYR0vQDfcXo8n6LfCc",
      "include_colab_link": true
    },
    "kernelspec": {
      "name": "python3",
      "display_name": "Python 3"
    },
    "language_info": {
      "name": "python"
    }
  },
  "cells": [
    {
      "cell_type": "markdown",
      "metadata": {
        "id": "view-in-github",
        "colab_type": "text"
      },
      "source": [
        "<a href=\"https://colab.research.google.com/github/Zaidan1140/Data-Cleansing-Movie-Data/blob/main/2318078DataCleansing.ipynb\" target=\"_parent\"><img src=\"https://colab.research.google.com/assets/colab-badge.svg\" alt=\"Open In Colab\"/></a>"
      ]
    },
    {
      "cell_type": "markdown",
      "source": [
        "# 1. Import Libraries"
      ],
      "metadata": {
        "id": "FQWodPJMk07L"
      }
    },
    {
      "cell_type": "code",
      "execution_count": 1,
      "metadata": {
        "id": "c2MgSV2Ej64p"
      },
      "outputs": [],
      "source": [
        "import pandas as pd\n",
        "import matplotlib.pyplot as plt"
      ]
    },
    {
      "cell_type": "code",
      "source": [
        "# Langkah 1: Mount Google Drive\n",
        "from google.colab import drive\n",
        "drive.mount('/content/drive')"
      ],
      "metadata": {
        "colab": {
          "base_uri": "https://localhost:8080/"
        },
        "id": "s_ZntM2ulY91",
        "outputId": "042993d9-020a-41a7-879a-e0a3d998bd81"
      },
      "execution_count": 2,
      "outputs": [
        {
          "output_type": "stream",
          "name": "stdout",
          "text": [
            "Mounted at /content/drive\n"
          ]
        }
      ]
    },
    {
      "cell_type": "markdown",
      "source": [
        "# 2. Baca Dataset pelanggan yang kotor"
      ],
      "metadata": {
        "id": "lv_79hEWmEK_"
      }
    },
    {
      "cell_type": "code",
      "source": [
        "# Load dataset\n",
        "file_path = \"/content/drive/MyDrive/Colab Notebooks/movies_data.csv\"# ganti sesuai path di Colab\n",
        "try:\n",
        "    df_dirty = pd.read_csv(file_path, encoding='latin-1')\n",
        "    print(\"Dataset loaded successfully with latin-1 encoding.\")\n",
        "except UnicodeDecodeError:\n",
        "    print(\"UnicodeDecodeError: Could not decode the file with latin-1 encoding. Please try another encoding like 'cp1252' or 'ISO-8859-1'.\")\n",
        "    # You can try another encoding here if latin-1 fails\n",
        "    # try:\n",
        "    #     df_dirty = pd.read_csv(file_path, encoding='cp1252')\n",
        "    #     print(\"Dataset loaded successfully with cp1252 encoding.\")\n",
        "    # except UnicodeDecodeError:\n",
        "    #     print(\"UnicodeDecodeError: Could not decode the file with cp1252 encoding. Please check the file encoding.\")\n",
        "except FileNotFoundError:\n",
        "    print(f\"FileNotFoundError: The file was not found at {file_path}. Please check the file path.\")"
      ],
      "metadata": {
        "colab": {
          "base_uri": "https://localhost:8080/"
        },
        "id": "C8IkWfKWm8gL",
        "outputId": "4b12f40e-5492-4300-f77b-b3b3e2bec458"
      },
      "execution_count": 6,
      "outputs": [
        {
          "output_type": "stream",
          "name": "stdout",
          "text": [
            "Dataset loaded successfully with latin-1 encoding.\n"
          ]
        }
      ]
    },
    {
      "cell_type": "code",
      "source": [
        "# Use the already loaded dataframe\n",
        "df = df_dirty\n",
        "\n",
        "# Tampilkan semua baris data\n",
        "print(\"=== Dataset Asli ===\")\n",
        "print(df.head())\n",
        "\n",
        "print(\"\\nInfo Dataset:\")\n",
        "print(df.info())\n",
        "\n",
        "print(\"\\nJumlah Data & Kolom:\", df.shape)"
      ],
      "metadata": {
        "colab": {
          "base_uri": "https://localhost:8080/"
        },
        "id": "_F6uRW6wnmWn",
        "outputId": "0bcb48d8-7b0b-48f1-aa78-b6168d55d643"
      },
      "execution_count": 7,
      "outputs": [
        {
          "output_type": "stream",
          "name": "stdout",
          "text": [
            "=== Dataset Asli ===\n",
            "              Movie        Director  Running time          Actor 1  \\\n",
            "0          13 Hours     Michael Bay           144    Toby Stephens   \n",
            "1         16 Blocks  Richard Donner           102     Bruce Willis   \n",
            "2          17 Again     Burr Steers           102    Matthew Perry   \n",
            "3              1982    Tommy Oliver            90  Bokeem Woodbine   \n",
            "4  2 Fast 2 Furious  John Singleton           107      Paul Walker   \n",
            "\n",
            "            Actor 2          Actor 3   Genre    Budget  Box Office  \\\n",
            "0  James Badge Dale  David Costabile  Action  50000000    69400000   \n",
            "1       David Zayas       Sasha Roiz  Action  52000000    65000000   \n",
            "2    Hunter Parrish    Thomas Lennon  Comedy  20000000   139000000   \n",
            "3          Ruby Dee    Quinton Aaron   Drama   1000000     2000000   \n",
            "4       Cole Hauser       Mo Gallini  Action  76000000   236000000   \n",
            "\n",
            "   Actors Box Office %  Director Box Office %   Earnings  \\\n",
            "0                50.00                  69.23   19400000   \n",
            "1                33.33                  50.00   13000000   \n",
            "2                44.44                  25.00  119000000   \n",
            "3                50.00                 100.00    1000000   \n",
            "4                75.00                  42.85  160000000   \n",
            "\n",
            "   Oscar and Golden Globes nominations  Oscar and Golden Globes awards  \\\n",
            "0                                    0                             0.0   \n",
            "1                                    0                             0.0   \n",
            "2                                    0                             0.0   \n",
            "3                                    0                             0.0   \n",
            "4                                    0                             0.0   \n",
            "\n",
            "   Release year  IMDb score  \n",
            "0          2016         7.4  \n",
            "1          2006         6.6  \n",
            "2          2009         6.4  \n",
            "3          2013         7.1  \n",
            "4          2003         5.9  \n",
            "\n",
            "Info Dataset:\n",
            "<class 'pandas.core.frame.DataFrame'>\n",
            "RangeIndex: 3974 entries, 0 to 3973\n",
            "Data columns (total 16 columns):\n",
            " #   Column                               Non-Null Count  Dtype  \n",
            "---  ------                               --------------  -----  \n",
            " 0   Movie                                3974 non-null   object \n",
            " 1   Director                             3974 non-null   object \n",
            " 2   Running time                         3974 non-null   int64  \n",
            " 3   Actor 1                              3974 non-null   object \n",
            " 4   Actor 2                              3974 non-null   object \n",
            " 5   Actor 3                              3972 non-null   object \n",
            " 6   Genre                                3974 non-null   object \n",
            " 7   Budget                               3974 non-null   int64  \n",
            " 8   Box Office                           3974 non-null   int64  \n",
            " 9   Actors Box Office %                  3974 non-null   float64\n",
            " 10  Director Box Office %                3974 non-null   float64\n",
            " 11  Earnings                             3974 non-null   int64  \n",
            " 12  Oscar and Golden Globes nominations  3974 non-null   int64  \n",
            " 13  Oscar and Golden Globes awards       3971 non-null   float64\n",
            " 14  Release year                         3974 non-null   int64  \n",
            " 15  IMDb score                           3974 non-null   float64\n",
            "dtypes: float64(4), int64(6), object(6)\n",
            "memory usage: 496.9+ KB\n",
            "None\n",
            "\n",
            "Jumlah Data & Kolom: (3974, 16)\n"
          ]
        }
      ]
    },
    {
      "cell_type": "markdown",
      "source": [
        "# 3. Mengecek Nilai yang Hilang"
      ],
      "metadata": {
        "id": "Q_V2chZrny_O"
      }
    },
    {
      "cell_type": "code",
      "source": [
        "print(\"\\n=== Cek Missing Values ===\")\n",
        "print(df.isnull().sum())"
      ],
      "metadata": {
        "colab": {
          "base_uri": "https://localhost:8080/"
        },
        "id": "MG5Ah4nQn0NS",
        "outputId": "e8071163-aac8-4f80-ffb3-776b68c1bc85"
      },
      "execution_count": 8,
      "outputs": [
        {
          "output_type": "stream",
          "name": "stdout",
          "text": [
            "\n",
            "=== Cek Missing Values ===\n",
            "Movie                                  0\n",
            "Director                               0\n",
            "Running time                           0\n",
            "Actor 1                                0\n",
            "Actor 2                                0\n",
            "Actor 3                                2\n",
            "Genre                                  0\n",
            "Budget                                 0\n",
            "Box Office                             0\n",
            "Actors Box Office %                    0\n",
            "Director Box Office %                  0\n",
            "Earnings                               0\n",
            "Oscar and Golden Globes nominations    0\n",
            "Oscar and Golden Globes awards         3\n",
            "Release year                           0\n",
            "IMDb score                             0\n",
            "dtype: int64\n"
          ]
        }
      ]
    },
    {
      "cell_type": "markdown",
      "source": [
        "# 4. Perbaikan Nilai yang Hilang"
      ],
      "metadata": {
        "id": "rC90n6B6oOFb"
      }
    },
    {
      "cell_type": "code",
      "source": [
        "# Kolom 'Actor 3' → isi dengan 'Unknown'\n",
        "df_dirty['Actor 3'].fillna(\"Unknown\", inplace=True)\n",
        "\n",
        "# Kolom 'Oscar and Golden Globes awards' → isi dengan 'Unknown'\n",
        "df_dirty['Oscar and Golden Globes awards'].fillna(\"Unknown\", inplace=True)"
      ],
      "metadata": {
        "colab": {
          "base_uri": "https://localhost:8080/"
        },
        "id": "GtaRLPbeoPVu",
        "outputId": "aaae8863-505d-4995-c209-aef5a316d7b9"
      },
      "execution_count": 10,
      "outputs": [
        {
          "output_type": "stream",
          "name": "stderr",
          "text": [
            "/tmp/ipython-input-3386032815.py:5: FutureWarning: A value is trying to be set on a copy of a DataFrame or Series through chained assignment using an inplace method.\n",
            "The behavior will change in pandas 3.0. This inplace method will never work because the intermediate object on which we are setting values always behaves as a copy.\n",
            "\n",
            "For example, when doing 'df[col].method(value, inplace=True)', try using 'df.method({col: value}, inplace=True)' or df[col] = df[col].method(value) instead, to perform the operation inplace on the original object.\n",
            "\n",
            "\n",
            "  df_dirty['Oscar and Golden Globes awards'].fillna(\"Unknown\", inplace=True)\n",
            "/tmp/ipython-input-3386032815.py:5: FutureWarning: Setting an item of incompatible dtype is deprecated and will raise an error in a future version of pandas. Value 'Unknown' has dtype incompatible with float64, please explicitly cast to a compatible dtype first.\n",
            "  df_dirty['Oscar and Golden Globes awards'].fillna(\"Unknown\", inplace=True)\n"
          ]
        }
      ]
    },
    {
      "cell_type": "markdown",
      "source": [
        "# 5. Cek Ulang Perbaikan Mising Velue"
      ],
      "metadata": {
        "id": "Dq4C5vzqol6N"
      }
    },
    {
      "cell_type": "code",
      "source": [
        "print(\"\\n=== Missing Values Setelah Perbaikan ===\")\n",
        "print(df_dirty.isnull().sum())"
      ],
      "metadata": {
        "colab": {
          "base_uri": "https://localhost:8080/"
        },
        "id": "lJ4W51gQomyV",
        "outputId": "e6f8c603-5386-4471-c3b1-f678607a0447"
      },
      "execution_count": 11,
      "outputs": [
        {
          "output_type": "stream",
          "name": "stdout",
          "text": [
            "\n",
            "=== Missing Values Setelah Perbaikan ===\n",
            "Movie                                  0\n",
            "Director                               0\n",
            "Running time                           0\n",
            "Actor 1                                0\n",
            "Actor 2                                0\n",
            "Actor 3                                0\n",
            "Genre                                  0\n",
            "Budget                                 0\n",
            "Box Office                             0\n",
            "Actors Box Office %                    0\n",
            "Director Box Office %                  0\n",
            "Earnings                               0\n",
            "Oscar and Golden Globes nominations    0\n",
            "Oscar and Golden Globes awards         0\n",
            "Release year                           0\n",
            "IMDb score                             0\n",
            "dtype: int64\n"
          ]
        }
      ]
    },
    {
      "cell_type": "markdown",
      "source": [
        "# 6. Cek & Hapus Duplikasi"
      ],
      "metadata": {
        "id": "9qA2NMACorjZ"
      }
    },
    {
      "cell_type": "code",
      "source": [
        "print(\"\\n=== Cek Data Duplikat ===\")\n",
        "dup_count = df_dirty.duplicated().sum()\n",
        "print(f\"Jumlah baris duplikat: {dup_count}\")\n",
        "\n",
        "before = df_dirty.shape[0]\n",
        "df_clean = df_dirty.drop_duplicates()\n",
        "after = df_clean.shape[0]"
      ],
      "metadata": {
        "colab": {
          "base_uri": "https://localhost:8080/"
        },
        "id": "KMj33u5tosmu",
        "outputId": "b45737e9-8256-4612-cea1-5dad5f6189f1"
      },
      "execution_count": 12,
      "outputs": [
        {
          "output_type": "stream",
          "name": "stdout",
          "text": [
            "\n",
            "=== Cek Data Duplikat ===\n",
            "Jumlah baris duplikat: 24\n"
          ]
        }
      ]
    },
    {
      "cell_type": "code",
      "source": [
        "print(f\"Jumlah baris sebelum cleaning: {before}\")\n",
        "print(f\"Jumlah baris setelah cleaning: {after}\")\n",
        "print(f\"Jumlah baris terhapus (duplikat): {before - after}\")"
      ],
      "metadata": {
        "colab": {
          "base_uri": "https://localhost:8080/"
        },
        "id": "30zMQmQ_o-OP",
        "outputId": "52b85ee6-2498-4f3a-a3fd-33b0d9a41160"
      },
      "execution_count": 13,
      "outputs": [
        {
          "output_type": "stream",
          "name": "stdout",
          "text": [
            "Jumlah baris sebelum cleaning: 3974\n",
            "Jumlah baris setelah cleaning: 3950\n",
            "Jumlah baris terhapus (duplikat): 24\n"
          ]
        }
      ]
    },
    {
      "cell_type": "markdown",
      "source": [
        "# 8. Standarisasi Kolom Box Office, Budget dan Earning"
      ],
      "metadata": {
        "id": "7Yi-HLJlqYaG"
      }
    },
    {
      "cell_type": "code",
      "source": [
        "# Misalnya dataset kamu namanya df_dirty\n",
        "comparison = df_dirty.copy()\n",
        "\n",
        "# Kolom yang mau dikonversi jadi Million\n",
        "cols_to_convert = [\"Budget\", \"Box Office\", \"Earnings\"]\n",
        "\n",
        "# Pastikan numeric\n",
        "for col in cols_to_convert:\n",
        "    comparison[col] = pd.to_numeric(comparison[col], errors=\"coerce\")\n",
        "\n",
        "# Buat kolom Million di samping kolom aslinya\n",
        "for col in cols_to_convert:\n",
        "    new_col_name = col + \"_Million\"\n",
        "    if new_col_name not in comparison.columns:\n",
        "        comparison.insert(\n",
        "            comparison.columns.get_loc(col) + 1,\n",
        "            new_col_name,\n",
        "            comparison[col].apply(lambda x: f\"{x/1_000_000:.2f}M\" if pd.notna(x) else \"-\")\n",
        "        )\n",
        "\n",
        "# Tampilkan 5 baris pertama\n",
        "print(\"Dataset with added columns (Million) next to original:\")\n",
        "print(comparison.head(5))\n",
        "\n",
        "# Simpan ke Google Drive\n",
        "output_path = \"/content/drive/MyDrive/Colab Notebooks/movies.xlsx\"\n",
        "comparison.to_excel(output_path, index=False)\n",
        "\n",
        "print(\"\\nDataset bersih disimpan di:\", output_path)"
      ],
      "metadata": {
        "colab": {
          "base_uri": "https://localhost:8080/"
        },
        "id": "bi1TIQfOqldj",
        "outputId": "9e9a1abb-4049-4b8f-8ca0-349c699ba34f"
      },
      "execution_count": 14,
      "outputs": [
        {
          "output_type": "stream",
          "name": "stdout",
          "text": [
            "Dataset with added columns (Million) next to original:\n",
            "              Movie        Director  Running time          Actor 1  \\\n",
            "0          13 Hours     Michael Bay           144    Toby Stephens   \n",
            "1         16 Blocks  Richard Donner           102     Bruce Willis   \n",
            "2          17 Again     Burr Steers           102    Matthew Perry   \n",
            "3              1982    Tommy Oliver            90  Bokeem Woodbine   \n",
            "4  2 Fast 2 Furious  John Singleton           107      Paul Walker   \n",
            "\n",
            "            Actor 2          Actor 3   Genre    Budget Budget_Million  \\\n",
            "0  James Badge Dale  David Costabile  Action  50000000         50.00M   \n",
            "1       David Zayas       Sasha Roiz  Action  52000000         52.00M   \n",
            "2    Hunter Parrish    Thomas Lennon  Comedy  20000000         20.00M   \n",
            "3          Ruby Dee    Quinton Aaron   Drama   1000000          1.00M   \n",
            "4       Cole Hauser       Mo Gallini  Action  76000000         76.00M   \n",
            "\n",
            "   Box Office Box Office_Million  Actors Box Office %  Director Box Office %  \\\n",
            "0    69400000             69.40M                50.00                  69.23   \n",
            "1    65000000             65.00M                33.33                  50.00   \n",
            "2   139000000            139.00M                44.44                  25.00   \n",
            "3     2000000              2.00M                50.00                 100.00   \n",
            "4   236000000            236.00M                75.00                  42.85   \n",
            "\n",
            "    Earnings Earnings_Million  Oscar and Golden Globes nominations  \\\n",
            "0   19400000           19.40M                                    0   \n",
            "1   13000000           13.00M                                    0   \n",
            "2  119000000          119.00M                                    0   \n",
            "3    1000000            1.00M                                    0   \n",
            "4  160000000          160.00M                                    0   \n",
            "\n",
            "  Oscar and Golden Globes awards  Release year  IMDb score  \n",
            "0                            0.0          2016         7.4  \n",
            "1                            0.0          2006         6.6  \n",
            "2                            0.0          2009         6.4  \n",
            "3                            0.0          2013         7.1  \n",
            "4                            0.0          2003         5.9  \n",
            "\n",
            "Dataset bersih disimpan di: /content/drive/MyDrive/Colab Notebooks/movies.xlsx\n"
          ]
        }
      ]
    },
    {
      "cell_type": "markdown",
      "source": [
        "# 9. DATA ENRICHMENT"
      ],
      "metadata": {
        "id": "0Cj9KvHarMUr"
      }
    },
    {
      "cell_type": "code",
      "source": [
        "# Pastikan semua kolom numerik bertipe float\n",
        "for col in df.select_dtypes(include=[\"number\"]).columns:\n",
        "    df[col] = df[col].astype(float)\n",
        "\n",
        "changed_rows = []\n",
        "\n",
        "# Loop tiap kolom numerik\n",
        "for col in df.select_dtypes(include=[\"number\"]).columns:\n",
        "    if (df[col] == 0).any():  # hanya kalau ada nilai 0\n",
        "        mean_val = df.loc[df[col] > 0, col].mean()\n",
        "\n",
        "        # Simpan data sebelum diganti\n",
        "        before = df.loc[df[col] == 0, [col]].copy()\n",
        "        before = before.rename(columns={col: \"Sebelum\"})\n",
        "        before[\"Kolom\"] = col\n",
        "        before[\"Sesudah\"] = mean_val\n",
        "\n",
        "        # Update dataframe (ganti 0 dengan mean)\n",
        "        df.loc[df[col] == 0, col] = mean_val\n",
        "\n",
        "        # Tambahkan ke list perubahan\n",
        "        changed_rows.append(before)\n",
        "\n",
        "# Gabungkan semua perubahan\n",
        "if changed_rows:\n",
        "    result = pd.concat(changed_rows, axis=0).reset_index(drop=True)\n",
        "\n",
        "    # Atur tampilan angka supaya tidak pakai scientific notation\n",
        "    pd.set_option(\"display.float_format\", \"{:,.0f}\".format)\n",
        "\n",
        "    print(\"=== Data yang berubah (sebelum → sesudah) ===\")\n",
        "    print(result.head(10))  # tampilkan 10 baris pertama\n",
        "else:\n",
        "    print(\"Tidak ada nilai 0 yang ditemukan.\")"
      ],
      "metadata": {
        "colab": {
          "base_uri": "https://localhost:8080/"
        },
        "id": "hRkOabVIrQWb",
        "outputId": "ee3bf6dd-f481-4c83-8731-99f6b1733ebc"
      },
      "execution_count": 19,
      "outputs": [
        {
          "output_type": "stream",
          "name": "stdout",
          "text": [
            "=== Data yang berubah (sebelum → sesudah) ===\n",
            "   Sebelum                Kolom       Sesudah\n",
            "0        0  Actors Box Office % 3,246,953,250\n",
            "1        0  Actors Box Office % 3,246,953,250\n",
            "2        0  Actors Box Office % 3,246,953,250\n",
            "3        0  Actors Box Office % 3,246,953,250\n",
            "4        0  Actors Box Office % 3,246,953,250\n",
            "5        0  Actors Box Office % 3,246,953,250\n",
            "6        0  Actors Box Office % 3,246,953,250\n",
            "7        0  Actors Box Office % 3,246,953,250\n",
            "8        0  Actors Box Office % 3,246,953,250\n",
            "9        0  Actors Box Office % 3,246,953,250\n"
          ]
        }
      ]
    },
    {
      "cell_type": "markdown",
      "source": [
        "# 10. Mencek Kolom Tidak Relevan"
      ],
      "metadata": {
        "id": "w_UXf8WytGxx"
      }
    },
    {
      "cell_type": "code",
      "source": [
        "# 1. Cek jumlah nilai unik per kolom\n",
        "print(\"=== Jumlah nilai unik per kolom ===\")\n",
        "print(df.nunique())"
      ],
      "metadata": {
        "colab": {
          "base_uri": "https://localhost:8080/"
        },
        "id": "Ay3_XmoktRxD",
        "outputId": "365fa23c-0e68-48b5-cf34-1dad54d47348"
      },
      "execution_count": 20,
      "outputs": [
        {
          "output_type": "stream",
          "name": "stdout",
          "text": [
            "=== Jumlah nilai unik per kolom ===\n",
            "Movie                                  3907\n",
            "Director                               1760\n",
            "Running time                            155\n",
            "Actor 1                                1591\n",
            "Actor 2                                2367\n",
            "Actor 3                                2781\n",
            "Genre                                    14\n",
            "Budget                                  374\n",
            "Box Office                              994\n",
            "Actors Box Office %                     234\n",
            "Director Box Office %                    39\n",
            "Earnings                               1244\n",
            "Oscar and Golden Globes nominations      22\n",
            "Oscar and Golden Globes awards           14\n",
            "Release year                             86\n",
            "IMDb score                               77\n",
            "dtype: int64\n"
          ]
        }
      ]
    },
    {
      "cell_type": "code",
      "source": [
        "# Identifikasi kolom kandidat tidak relevan\n",
        "irrelevant_cols = []\n",
        "\n",
        "# Kolom dengan 1 nilai unik\n",
        "single_value_cols = df.nunique()[df.nunique() == 1].index.tolist()\n",
        "irrelevant_cols.extend(single_value_cols)"
      ],
      "metadata": {
        "id": "-WIqUbkMtek7"
      },
      "execution_count": 21,
      "outputs": []
    },
    {
      "cell_type": "code",
      "source": [
        "# Hapus kolom tidak relevan\n",
        "df = df.drop(columns=set(irrelevant_cols), errors='ignore')\n",
        "\n",
        "print(\"\\n=== Setelah perbaikan ===\")\n",
        "print(\"Kolom dataset sekarang:\", df.columns.tolist())"
      ],
      "metadata": {
        "colab": {
          "base_uri": "https://localhost:8080/"
        },
        "id": "n-dd3VCftjr3",
        "outputId": "315a77ef-5d19-4ce6-9a17-a3cb95e559db"
      },
      "execution_count": 22,
      "outputs": [
        {
          "output_type": "stream",
          "name": "stdout",
          "text": [
            "\n",
            "=== Setelah perbaikan ===\n",
            "Kolom dataset sekarang: ['Movie', 'Director', 'Running time', 'Actor 1', 'Actor 2', 'Actor 3', 'Genre', 'Budget', 'Box Office', 'Actors Box Office %', 'Director Box Office %', 'Earnings', 'Oscar and Golden Globes nominations', 'Oscar and Golden Globes awards', 'Release year', 'IMDb score']\n"
          ]
        }
      ]
    },
    {
      "cell_type": "markdown",
      "source": [
        "# 11. Menampilkan Data Yang Sudah Di Cleansing"
      ],
      "metadata": {
        "id": "L-jCAYJOto-U"
      }
    },
    {
      "cell_type": "code",
      "source": [
        "print(\"\\nContoh data bersih:\")\n",
        "display(df.head(10))"
      ],
      "metadata": {
        "colab": {
          "base_uri": "https://localhost:8080/",
          "height": 695
        },
        "id": "0IMp3p3Vts7J",
        "outputId": "9a939911-4384-44d1-888a-30e03fa919b3"
      },
      "execution_count": 23,
      "outputs": [
        {
          "output_type": "stream",
          "name": "stdout",
          "text": [
            "\n",
            "Contoh data bersih:\n"
          ]
        },
        {
          "output_type": "display_data",
          "data": {
            "text/plain": [
              "              Movie           Director  Running time            Actor 1  \\\n",
              "0          13 Hours        Michael Bay           144      Toby Stephens   \n",
              "1         16 Blocks     Richard Donner           102       Bruce Willis   \n",
              "2          17 Again        Burr Steers           102      Matthew Perry   \n",
              "3              1982       Tommy Oliver            90    Bokeem Woodbine   \n",
              "4  2 Fast 2 Furious     John Singleton           107        Paul Walker   \n",
              "5            2 Guns  Baltasar Kormákur           109  Denzel Washington   \n",
              "6              2012    Roland Emmerich           158       Oliver Platt   \n",
              "7                21     Robert Luketic           123       Kevin Spacey   \n",
              "8    22 Jump Street          Phil Lord           112     Channing Tatum   \n",
              "9        27 Dresses      Anne Fletcher           111         Judy Greer   \n",
              "\n",
              "            Actor 2             Actor 3   Genre      Budget  Box Office  \\\n",
              "0  James Badge Dale     David Costabile  Action  50,000,000  69,400,000   \n",
              "1       David Zayas          Sasha Roiz  Action  52,000,000  65,000,000   \n",
              "2    Hunter Parrish       Thomas Lennon  Comedy  20,000,000 139,000,000   \n",
              "3          Ruby Dee       Quinton Aaron   Drama   1,000,000   2,000,000   \n",
              "4       Cole Hauser          Mo Gallini  Action  76,000,000 236,000,000   \n",
              "5  Patrick Fischler           Fred Ward  Action  61,000,000 132,000,000   \n",
              "6        Liam James        Tom McCarthy  Action 200,000,000 800,000,000   \n",
              "7      Jim Sturgess            Josh Gad   Crime  35,000,000  81,000,000   \n",
              "8     Craig Roberts  Amber Stevens West  Action  50,000,000 331,000,000   \n",
              "9        Bern Cohen     Yetta Gottesman  Comedy  30,000,000 160,000,000   \n",
              "\n",
              "   Actors Box Office %  Director Box Office %    Earnings  \\\n",
              "0                   50                     69  19,400,000   \n",
              "1                   33                     50  13,000,000   \n",
              "2                   44                     25 119,000,000   \n",
              "3                   50                    100   1,000,000   \n",
              "4                   75                     43 160,000,000   \n",
              "5                   67                    100  71,000,000   \n",
              "6                   64                     50 600,000,000   \n",
              "7                   61                     67  46,000,000   \n",
              "8                   56                    100 281,000,000   \n",
              "9                   77                     60 130,000,000   \n",
              "\n",
              "   Oscar and Golden Globes nominations  Oscar and Golden Globes awards  \\\n",
              "0                                    4                               3   \n",
              "1                                    4                               3   \n",
              "2                                    4                               3   \n",
              "3                                    4                               3   \n",
              "4                                    4                               3   \n",
              "5                                    4                               3   \n",
              "6                                    4                               3   \n",
              "7                                    4                               3   \n",
              "8                                    4                               3   \n",
              "9                                    4                               3   \n",
              "\n",
              "   Release year  IMDb score  \n",
              "0         2,016           7  \n",
              "1         2,006           7  \n",
              "2         2,009           6  \n",
              "3         2,013           7  \n",
              "4         2,003           6  \n",
              "5         2,013           7  \n",
              "6         2,009           6  \n",
              "7         2,008           7  \n",
              "8         2,014           7  \n",
              "9         2,008           6  "
            ],
            "text/html": [
              "\n",
              "  <div id=\"df-fe6015b2-7cb3-43bf-a9aa-6057aa98119d\" class=\"colab-df-container\">\n",
              "    <div>\n",
              "<style scoped>\n",
              "    .dataframe tbody tr th:only-of-type {\n",
              "        vertical-align: middle;\n",
              "    }\n",
              "\n",
              "    .dataframe tbody tr th {\n",
              "        vertical-align: top;\n",
              "    }\n",
              "\n",
              "    .dataframe thead th {\n",
              "        text-align: right;\n",
              "    }\n",
              "</style>\n",
              "<table border=\"1\" class=\"dataframe\">\n",
              "  <thead>\n",
              "    <tr style=\"text-align: right;\">\n",
              "      <th></th>\n",
              "      <th>Movie</th>\n",
              "      <th>Director</th>\n",
              "      <th>Running time</th>\n",
              "      <th>Actor 1</th>\n",
              "      <th>Actor 2</th>\n",
              "      <th>Actor 3</th>\n",
              "      <th>Genre</th>\n",
              "      <th>Budget</th>\n",
              "      <th>Box Office</th>\n",
              "      <th>Actors Box Office %</th>\n",
              "      <th>Director Box Office %</th>\n",
              "      <th>Earnings</th>\n",
              "      <th>Oscar and Golden Globes nominations</th>\n",
              "      <th>Oscar and Golden Globes awards</th>\n",
              "      <th>Release year</th>\n",
              "      <th>IMDb score</th>\n",
              "    </tr>\n",
              "  </thead>\n",
              "  <tbody>\n",
              "    <tr>\n",
              "      <th>0</th>\n",
              "      <td>13 Hours</td>\n",
              "      <td>Michael Bay</td>\n",
              "      <td>144</td>\n",
              "      <td>Toby Stephens</td>\n",
              "      <td>James Badge Dale</td>\n",
              "      <td>David Costabile</td>\n",
              "      <td>Action</td>\n",
              "      <td>50,000,000</td>\n",
              "      <td>69,400,000</td>\n",
              "      <td>50</td>\n",
              "      <td>69</td>\n",
              "      <td>19,400,000</td>\n",
              "      <td>4</td>\n",
              "      <td>3</td>\n",
              "      <td>2,016</td>\n",
              "      <td>7</td>\n",
              "    </tr>\n",
              "    <tr>\n",
              "      <th>1</th>\n",
              "      <td>16 Blocks</td>\n",
              "      <td>Richard Donner</td>\n",
              "      <td>102</td>\n",
              "      <td>Bruce Willis</td>\n",
              "      <td>David Zayas</td>\n",
              "      <td>Sasha Roiz</td>\n",
              "      <td>Action</td>\n",
              "      <td>52,000,000</td>\n",
              "      <td>65,000,000</td>\n",
              "      <td>33</td>\n",
              "      <td>50</td>\n",
              "      <td>13,000,000</td>\n",
              "      <td>4</td>\n",
              "      <td>3</td>\n",
              "      <td>2,006</td>\n",
              "      <td>7</td>\n",
              "    </tr>\n",
              "    <tr>\n",
              "      <th>2</th>\n",
              "      <td>17 Again</td>\n",
              "      <td>Burr Steers</td>\n",
              "      <td>102</td>\n",
              "      <td>Matthew Perry</td>\n",
              "      <td>Hunter Parrish</td>\n",
              "      <td>Thomas Lennon</td>\n",
              "      <td>Comedy</td>\n",
              "      <td>20,000,000</td>\n",
              "      <td>139,000,000</td>\n",
              "      <td>44</td>\n",
              "      <td>25</td>\n",
              "      <td>119,000,000</td>\n",
              "      <td>4</td>\n",
              "      <td>3</td>\n",
              "      <td>2,009</td>\n",
              "      <td>6</td>\n",
              "    </tr>\n",
              "    <tr>\n",
              "      <th>3</th>\n",
              "      <td>1982</td>\n",
              "      <td>Tommy Oliver</td>\n",
              "      <td>90</td>\n",
              "      <td>Bokeem Woodbine</td>\n",
              "      <td>Ruby Dee</td>\n",
              "      <td>Quinton Aaron</td>\n",
              "      <td>Drama</td>\n",
              "      <td>1,000,000</td>\n",
              "      <td>2,000,000</td>\n",
              "      <td>50</td>\n",
              "      <td>100</td>\n",
              "      <td>1,000,000</td>\n",
              "      <td>4</td>\n",
              "      <td>3</td>\n",
              "      <td>2,013</td>\n",
              "      <td>7</td>\n",
              "    </tr>\n",
              "    <tr>\n",
              "      <th>4</th>\n",
              "      <td>2 Fast 2 Furious</td>\n",
              "      <td>John Singleton</td>\n",
              "      <td>107</td>\n",
              "      <td>Paul Walker</td>\n",
              "      <td>Cole Hauser</td>\n",
              "      <td>Mo Gallini</td>\n",
              "      <td>Action</td>\n",
              "      <td>76,000,000</td>\n",
              "      <td>236,000,000</td>\n",
              "      <td>75</td>\n",
              "      <td>43</td>\n",
              "      <td>160,000,000</td>\n",
              "      <td>4</td>\n",
              "      <td>3</td>\n",
              "      <td>2,003</td>\n",
              "      <td>6</td>\n",
              "    </tr>\n",
              "    <tr>\n",
              "      <th>5</th>\n",
              "      <td>2 Guns</td>\n",
              "      <td>Baltasar Kormákur</td>\n",
              "      <td>109</td>\n",
              "      <td>Denzel Washington</td>\n",
              "      <td>Patrick Fischler</td>\n",
              "      <td>Fred Ward</td>\n",
              "      <td>Action</td>\n",
              "      <td>61,000,000</td>\n",
              "      <td>132,000,000</td>\n",
              "      <td>67</td>\n",
              "      <td>100</td>\n",
              "      <td>71,000,000</td>\n",
              "      <td>4</td>\n",
              "      <td>3</td>\n",
              "      <td>2,013</td>\n",
              "      <td>7</td>\n",
              "    </tr>\n",
              "    <tr>\n",
              "      <th>6</th>\n",
              "      <td>2012</td>\n",
              "      <td>Roland Emmerich</td>\n",
              "      <td>158</td>\n",
              "      <td>Oliver Platt</td>\n",
              "      <td>Liam James</td>\n",
              "      <td>Tom McCarthy</td>\n",
              "      <td>Action</td>\n",
              "      <td>200,000,000</td>\n",
              "      <td>800,000,000</td>\n",
              "      <td>64</td>\n",
              "      <td>50</td>\n",
              "      <td>600,000,000</td>\n",
              "      <td>4</td>\n",
              "      <td>3</td>\n",
              "      <td>2,009</td>\n",
              "      <td>6</td>\n",
              "    </tr>\n",
              "    <tr>\n",
              "      <th>7</th>\n",
              "      <td>21</td>\n",
              "      <td>Robert Luketic</td>\n",
              "      <td>123</td>\n",
              "      <td>Kevin Spacey</td>\n",
              "      <td>Jim Sturgess</td>\n",
              "      <td>Josh Gad</td>\n",
              "      <td>Crime</td>\n",
              "      <td>35,000,000</td>\n",
              "      <td>81,000,000</td>\n",
              "      <td>61</td>\n",
              "      <td>67</td>\n",
              "      <td>46,000,000</td>\n",
              "      <td>4</td>\n",
              "      <td>3</td>\n",
              "      <td>2,008</td>\n",
              "      <td>7</td>\n",
              "    </tr>\n",
              "    <tr>\n",
              "      <th>8</th>\n",
              "      <td>22 Jump Street</td>\n",
              "      <td>Phil Lord</td>\n",
              "      <td>112</td>\n",
              "      <td>Channing Tatum</td>\n",
              "      <td>Craig Roberts</td>\n",
              "      <td>Amber Stevens West</td>\n",
              "      <td>Action</td>\n",
              "      <td>50,000,000</td>\n",
              "      <td>331,000,000</td>\n",
              "      <td>56</td>\n",
              "      <td>100</td>\n",
              "      <td>281,000,000</td>\n",
              "      <td>4</td>\n",
              "      <td>3</td>\n",
              "      <td>2,014</td>\n",
              "      <td>7</td>\n",
              "    </tr>\n",
              "    <tr>\n",
              "      <th>9</th>\n",
              "      <td>27 Dresses</td>\n",
              "      <td>Anne Fletcher</td>\n",
              "      <td>111</td>\n",
              "      <td>Judy Greer</td>\n",
              "      <td>Bern Cohen</td>\n",
              "      <td>Yetta Gottesman</td>\n",
              "      <td>Comedy</td>\n",
              "      <td>30,000,000</td>\n",
              "      <td>160,000,000</td>\n",
              "      <td>77</td>\n",
              "      <td>60</td>\n",
              "      <td>130,000,000</td>\n",
              "      <td>4</td>\n",
              "      <td>3</td>\n",
              "      <td>2,008</td>\n",
              "      <td>6</td>\n",
              "    </tr>\n",
              "  </tbody>\n",
              "</table>\n",
              "</div>\n",
              "    <div class=\"colab-df-buttons\">\n",
              "\n",
              "  <div class=\"colab-df-container\">\n",
              "    <button class=\"colab-df-convert\" onclick=\"convertToInteractive('df-fe6015b2-7cb3-43bf-a9aa-6057aa98119d')\"\n",
              "            title=\"Convert this dataframe to an interactive table.\"\n",
              "            style=\"display:none;\">\n",
              "\n",
              "  <svg xmlns=\"http://www.w3.org/2000/svg\" height=\"24px\" viewBox=\"0 -960 960 960\">\n",
              "    <path d=\"M120-120v-720h720v720H120Zm60-500h600v-160H180v160Zm220 220h160v-160H400v160Zm0 220h160v-160H400v160ZM180-400h160v-160H180v160Zm440 0h160v-160H620v160ZM180-180h160v-160H180v160Zm440 0h160v-160H620v160Z\"/>\n",
              "  </svg>\n",
              "    </button>\n",
              "\n",
              "  <style>\n",
              "    .colab-df-container {\n",
              "      display:flex;\n",
              "      gap: 12px;\n",
              "    }\n",
              "\n",
              "    .colab-df-convert {\n",
              "      background-color: #E8F0FE;\n",
              "      border: none;\n",
              "      border-radius: 50%;\n",
              "      cursor: pointer;\n",
              "      display: none;\n",
              "      fill: #1967D2;\n",
              "      height: 32px;\n",
              "      padding: 0 0 0 0;\n",
              "      width: 32px;\n",
              "    }\n",
              "\n",
              "    .colab-df-convert:hover {\n",
              "      background-color: #E2EBFA;\n",
              "      box-shadow: 0px 1px 2px rgba(60, 64, 67, 0.3), 0px 1px 3px 1px rgba(60, 64, 67, 0.15);\n",
              "      fill: #174EA6;\n",
              "    }\n",
              "\n",
              "    .colab-df-buttons div {\n",
              "      margin-bottom: 4px;\n",
              "    }\n",
              "\n",
              "    [theme=dark] .colab-df-convert {\n",
              "      background-color: #3B4455;\n",
              "      fill: #D2E3FC;\n",
              "    }\n",
              "\n",
              "    [theme=dark] .colab-df-convert:hover {\n",
              "      background-color: #434B5C;\n",
              "      box-shadow: 0px 1px 3px 1px rgba(0, 0, 0, 0.15);\n",
              "      filter: drop-shadow(0px 1px 2px rgba(0, 0, 0, 0.3));\n",
              "      fill: #FFFFFF;\n",
              "    }\n",
              "  </style>\n",
              "\n",
              "    <script>\n",
              "      const buttonEl =\n",
              "        document.querySelector('#df-fe6015b2-7cb3-43bf-a9aa-6057aa98119d button.colab-df-convert');\n",
              "      buttonEl.style.display =\n",
              "        google.colab.kernel.accessAllowed ? 'block' : 'none';\n",
              "\n",
              "      async function convertToInteractive(key) {\n",
              "        const element = document.querySelector('#df-fe6015b2-7cb3-43bf-a9aa-6057aa98119d');\n",
              "        const dataTable =\n",
              "          await google.colab.kernel.invokeFunction('convertToInteractive',\n",
              "                                                    [key], {});\n",
              "        if (!dataTable) return;\n",
              "\n",
              "        const docLinkHtml = 'Like what you see? Visit the ' +\n",
              "          '<a target=\"_blank\" href=https://colab.research.google.com/notebooks/data_table.ipynb>data table notebook</a>'\n",
              "          + ' to learn more about interactive tables.';\n",
              "        element.innerHTML = '';\n",
              "        dataTable['output_type'] = 'display_data';\n",
              "        await google.colab.output.renderOutput(dataTable, element);\n",
              "        const docLink = document.createElement('div');\n",
              "        docLink.innerHTML = docLinkHtml;\n",
              "        element.appendChild(docLink);\n",
              "      }\n",
              "    </script>\n",
              "  </div>\n",
              "\n",
              "\n",
              "    <div id=\"df-69fda4df-dd8e-48f6-b043-af01d30a4321\">\n",
              "      <button class=\"colab-df-quickchart\" onclick=\"quickchart('df-69fda4df-dd8e-48f6-b043-af01d30a4321')\"\n",
              "                title=\"Suggest charts\"\n",
              "                style=\"display:none;\">\n",
              "\n",
              "<svg xmlns=\"http://www.w3.org/2000/svg\" height=\"24px\"viewBox=\"0 0 24 24\"\n",
              "     width=\"24px\">\n",
              "    <g>\n",
              "        <path d=\"M19 3H5c-1.1 0-2 .9-2 2v14c0 1.1.9 2 2 2h14c1.1 0 2-.9 2-2V5c0-1.1-.9-2-2-2zM9 17H7v-7h2v7zm4 0h-2V7h2v10zm4 0h-2v-4h2v4z\"/>\n",
              "    </g>\n",
              "</svg>\n",
              "      </button>\n",
              "\n",
              "<style>\n",
              "  .colab-df-quickchart {\n",
              "      --bg-color: #E8F0FE;\n",
              "      --fill-color: #1967D2;\n",
              "      --hover-bg-color: #E2EBFA;\n",
              "      --hover-fill-color: #174EA6;\n",
              "      --disabled-fill-color: #AAA;\n",
              "      --disabled-bg-color: #DDD;\n",
              "  }\n",
              "\n",
              "  [theme=dark] .colab-df-quickchart {\n",
              "      --bg-color: #3B4455;\n",
              "      --fill-color: #D2E3FC;\n",
              "      --hover-bg-color: #434B5C;\n",
              "      --hover-fill-color: #FFFFFF;\n",
              "      --disabled-bg-color: #3B4455;\n",
              "      --disabled-fill-color: #666;\n",
              "  }\n",
              "\n",
              "  .colab-df-quickchart {\n",
              "    background-color: var(--bg-color);\n",
              "    border: none;\n",
              "    border-radius: 50%;\n",
              "    cursor: pointer;\n",
              "    display: none;\n",
              "    fill: var(--fill-color);\n",
              "    height: 32px;\n",
              "    padding: 0;\n",
              "    width: 32px;\n",
              "  }\n",
              "\n",
              "  .colab-df-quickchart:hover {\n",
              "    background-color: var(--hover-bg-color);\n",
              "    box-shadow: 0 1px 2px rgba(60, 64, 67, 0.3), 0 1px 3px 1px rgba(60, 64, 67, 0.15);\n",
              "    fill: var(--button-hover-fill-color);\n",
              "  }\n",
              "\n",
              "  .colab-df-quickchart-complete:disabled,\n",
              "  .colab-df-quickchart-complete:disabled:hover {\n",
              "    background-color: var(--disabled-bg-color);\n",
              "    fill: var(--disabled-fill-color);\n",
              "    box-shadow: none;\n",
              "  }\n",
              "\n",
              "  .colab-df-spinner {\n",
              "    border: 2px solid var(--fill-color);\n",
              "    border-color: transparent;\n",
              "    border-bottom-color: var(--fill-color);\n",
              "    animation:\n",
              "      spin 1s steps(1) infinite;\n",
              "  }\n",
              "\n",
              "  @keyframes spin {\n",
              "    0% {\n",
              "      border-color: transparent;\n",
              "      border-bottom-color: var(--fill-color);\n",
              "      border-left-color: var(--fill-color);\n",
              "    }\n",
              "    20% {\n",
              "      border-color: transparent;\n",
              "      border-left-color: var(--fill-color);\n",
              "      border-top-color: var(--fill-color);\n",
              "    }\n",
              "    30% {\n",
              "      border-color: transparent;\n",
              "      border-left-color: var(--fill-color);\n",
              "      border-top-color: var(--fill-color);\n",
              "      border-right-color: var(--fill-color);\n",
              "    }\n",
              "    40% {\n",
              "      border-color: transparent;\n",
              "      border-right-color: var(--fill-color);\n",
              "      border-top-color: var(--fill-color);\n",
              "    }\n",
              "    60% {\n",
              "      border-color: transparent;\n",
              "      border-right-color: var(--fill-color);\n",
              "    }\n",
              "    80% {\n",
              "      border-color: transparent;\n",
              "      border-right-color: var(--fill-color);\n",
              "      border-bottom-color: var(--fill-color);\n",
              "    }\n",
              "    90% {\n",
              "      border-color: transparent;\n",
              "      border-bottom-color: var(--fill-color);\n",
              "    }\n",
              "  }\n",
              "</style>\n",
              "\n",
              "      <script>\n",
              "        async function quickchart(key) {\n",
              "          const quickchartButtonEl =\n",
              "            document.querySelector('#' + key + ' button');\n",
              "          quickchartButtonEl.disabled = true;  // To prevent multiple clicks.\n",
              "          quickchartButtonEl.classList.add('colab-df-spinner');\n",
              "          try {\n",
              "            const charts = await google.colab.kernel.invokeFunction(\n",
              "                'suggestCharts', [key], {});\n",
              "          } catch (error) {\n",
              "            console.error('Error during call to suggestCharts:', error);\n",
              "          }\n",
              "          quickchartButtonEl.classList.remove('colab-df-spinner');\n",
              "          quickchartButtonEl.classList.add('colab-df-quickchart-complete');\n",
              "        }\n",
              "        (() => {\n",
              "          let quickchartButtonEl =\n",
              "            document.querySelector('#df-69fda4df-dd8e-48f6-b043-af01d30a4321 button');\n",
              "          quickchartButtonEl.style.display =\n",
              "            google.colab.kernel.accessAllowed ? 'block' : 'none';\n",
              "        })();\n",
              "      </script>\n",
              "    </div>\n",
              "\n",
              "    </div>\n",
              "  </div>\n"
            ],
            "application/vnd.google.colaboratory.intrinsic+json": {
              "type": "dataframe",
              "summary": "{\n  \"name\": \"display(df\",\n  \"rows\": 10,\n  \"fields\": [\n    {\n      \"column\": \"Movie\",\n      \"properties\": {\n        \"dtype\": \"string\",\n        \"num_unique_values\": 10,\n        \"samples\": [\n          \"22 Jump Street\",\n          \"16 Blocks\",\n          \"2 Guns\"\n        ],\n        \"semantic_type\": \"\",\n        \"description\": \"\"\n      }\n    },\n    {\n      \"column\": \"Director\",\n      \"properties\": {\n        \"dtype\": \"string\",\n        \"num_unique_values\": 10,\n        \"samples\": [\n          \"Phil Lord\",\n          \"Richard Donner\",\n          \"Baltasar Korm\\u00e1kur\"\n        ],\n        \"semantic_type\": \"\",\n        \"description\": \"\"\n      }\n    },\n    {\n      \"column\": \"Running time\",\n      \"properties\": {\n        \"dtype\": \"number\",\n        \"std\": 20.64407367206816,\n        \"min\": 90.0,\n        \"max\": 158.0,\n        \"num_unique_values\": 9,\n        \"samples\": [\n          112.0,\n          102.0,\n          158.0\n        ],\n        \"semantic_type\": \"\",\n        \"description\": \"\"\n      }\n    },\n    {\n      \"column\": \"Actor 1\",\n      \"properties\": {\n        \"dtype\": \"string\",\n        \"num_unique_values\": 10,\n        \"samples\": [\n          \"Channing Tatum\",\n          \"Bruce Willis\",\n          \"Denzel Washington\"\n        ],\n        \"semantic_type\": \"\",\n        \"description\": \"\"\n      }\n    },\n    {\n      \"column\": \"Actor 2\",\n      \"properties\": {\n        \"dtype\": \"string\",\n        \"num_unique_values\": 10,\n        \"samples\": [\n          \"Craig Roberts\",\n          \"David Zayas\",\n          \"Patrick Fischler\"\n        ],\n        \"semantic_type\": \"\",\n        \"description\": \"\"\n      }\n    },\n    {\n      \"column\": \"Actor 3\",\n      \"properties\": {\n        \"dtype\": \"string\",\n        \"num_unique_values\": 10,\n        \"samples\": [\n          \"Amber Stevens West\",\n          \"Sasha Roiz\",\n          \"Fred Ward\"\n        ],\n        \"semantic_type\": \"\",\n        \"description\": \"\"\n      }\n    },\n    {\n      \"column\": \"Genre\",\n      \"properties\": {\n        \"dtype\": \"category\",\n        \"num_unique_values\": 4,\n        \"samples\": [\n          \"Comedy\",\n          \"Crime\",\n          \"Action\"\n        ],\n        \"semantic_type\": \"\",\n        \"description\": \"\"\n      }\n    },\n    {\n      \"column\": \"Budget\",\n      \"properties\": {\n        \"dtype\": \"number\",\n        \"std\": 54430894.00535528,\n        \"min\": 1000000.0,\n        \"max\": 200000000.0,\n        \"num_unique_values\": 9,\n        \"samples\": [\n          35000000.0,\n          52000000.0,\n          61000000.0\n        ],\n        \"semantic_type\": \"\",\n        \"description\": \"\"\n      }\n    },\n    {\n      \"column\": \"Box Office\",\n      \"properties\": {\n        \"dtype\": \"number\",\n        \"std\": 230223235.6262552,\n        \"min\": 2000000.0,\n        \"max\": 800000000.0,\n        \"num_unique_values\": 10,\n        \"samples\": [\n          331000000.0,\n          65000000.0,\n          132000000.0\n        ],\n        \"semantic_type\": \"\",\n        \"description\": \"\"\n      }\n    },\n    {\n      \"column\": \"Actors Box Office %\",\n      \"properties\": {\n        \"dtype\": \"number\",\n        \"std\": 13.720417105742653,\n        \"min\": 33.33,\n        \"max\": 77.0,\n        \"num_unique_values\": 9,\n        \"samples\": [\n          55.55,\n          33.33,\n          63.88\n        ],\n        \"semantic_type\": \"\",\n        \"description\": \"\"\n      }\n    },\n    {\n      \"column\": \"Director Box Office %\",\n      \"properties\": {\n        \"dtype\": \"number\",\n        \"std\": 26.33628264074741,\n        \"min\": 25.0,\n        \"max\": 100.0,\n        \"num_unique_values\": 7,\n        \"samples\": [\n          69.23,\n          50.0,\n          66.67\n        ],\n        \"semantic_type\": \"\",\n        \"description\": \"\"\n      }\n    },\n    {\n      \"column\": \"Earnings\",\n      \"properties\": {\n        \"dtype\": \"number\",\n        \"std\": 181307027.50368565,\n        \"min\": 1000000.0,\n        \"max\": 600000000.0,\n        \"num_unique_values\": 10,\n        \"samples\": [\n          281000000.0,\n          13000000.0,\n          71000000.0\n        ],\n        \"semantic_type\": \"\",\n        \"description\": \"\"\n      }\n    },\n    {\n      \"column\": \"Oscar and Golden Globes nominations\",\n      \"properties\": {\n        \"dtype\": \"number\",\n        \"std\": 0.0,\n        \"min\": 3.87488986784141,\n        \"max\": 3.87488986784141,\n        \"num_unique_values\": 1,\n        \"samples\": [\n          3.87488986784141\n        ],\n        \"semantic_type\": \"\",\n        \"description\": \"\"\n      }\n    },\n    {\n      \"column\": \"Oscar and Golden Globes awards\",\n      \"properties\": {\n        \"dtype\": \"number\",\n        \"std\": 4.681111291435602e-16,\n        \"min\": 2.732334047109208,\n        \"max\": 2.732334047109208,\n        \"num_unique_values\": 1,\n        \"samples\": [\n          2.732334047109208\n        ],\n        \"semantic_type\": \"\",\n        \"description\": \"\"\n      }\n    },\n    {\n      \"column\": \"Release year\",\n      \"properties\": {\n        \"dtype\": \"number\",\n        \"std\": 4.012480529547776,\n        \"min\": 2003.0,\n        \"max\": 2016.0,\n        \"num_unique_values\": 7,\n        \"samples\": [\n          2016.0\n        ],\n        \"semantic_type\": \"\",\n        \"description\": \"\"\n      }\n    },\n    {\n      \"column\": \"IMDb score\",\n      \"properties\": {\n        \"dtype\": \"number\",\n        \"std\": 0.5384133067531753,\n        \"min\": 5.8,\n        \"max\": 7.4,\n        \"num_unique_values\": 9,\n        \"samples\": [\n          6.8\n        ],\n        \"semantic_type\": \"\",\n        \"description\": \"\"\n      }\n    }\n  ]\n}"
            }
          },
          "metadata": {}
        }
      ]
    }
  ]
}